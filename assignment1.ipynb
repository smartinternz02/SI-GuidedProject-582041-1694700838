{
 "cells": [
  {
   "cell_type": "markdown",
   "metadata": {},
   "source": [
    "### Assignment 1\n",
    "#### Aryan Sethi (21BCE0704)"
   ]
  },
  {
   "cell_type": "code",
   "execution_count": 98,
   "metadata": {},
   "outputs": [],
   "source": [
    "import pandas as pd\n",
    "import numpy as np"
   ]
  },
  {
   "cell_type": "code",
   "execution_count": 99,
   "metadata": {},
   "outputs": [
    {
     "data": {
      "text/html": [
       "<div>\n",
       "<style scoped>\n",
       "    .dataframe tbody tr th:only-of-type {\n",
       "        vertical-align: middle;\n",
       "    }\n",
       "\n",
       "    .dataframe tbody tr th {\n",
       "        vertical-align: top;\n",
       "    }\n",
       "\n",
       "    .dataframe thead th {\n",
       "        text-align: right;\n",
       "    }\n",
       "</style>\n",
       "<table border=\"1\" class=\"dataframe\">\n",
       "  <thead>\n",
       "    <tr style=\"text-align: right;\">\n",
       "      <th></th>\n",
       "      <th>0</th>\n",
       "      <th>1</th>\n",
       "      <th>2</th>\n",
       "      <th>3</th>\n",
       "    </tr>\n",
       "  </thead>\n",
       "  <tbody>\n",
       "    <tr>\n",
       "      <th>0</th>\n",
       "      <td>44</td>\n",
       "      <td>6</td>\n",
       "      <td>22</td>\n",
       "      <td>97</td>\n",
       "    </tr>\n",
       "    <tr>\n",
       "      <th>1</th>\n",
       "      <td>98</td>\n",
       "      <td>53</td>\n",
       "      <td>95</td>\n",
       "      <td>54</td>\n",
       "    </tr>\n",
       "    <tr>\n",
       "      <th>2</th>\n",
       "      <td>26</td>\n",
       "      <td>52</td>\n",
       "      <td>5</td>\n",
       "      <td>68</td>\n",
       "    </tr>\n",
       "    <tr>\n",
       "      <th>3</th>\n",
       "      <td>38</td>\n",
       "      <td>62</td>\n",
       "      <td>79</td>\n",
       "      <td>24</td>\n",
       "    </tr>\n",
       "  </tbody>\n",
       "</table>\n",
       "</div>"
      ],
      "text/plain": [
       "    0   1   2   3\n",
       "0  44   6  22  97\n",
       "1  98  53  95  54\n",
       "2  26  52   5  68\n",
       "3  38  62  79  24"
      ]
     },
     "execution_count": 99,
     "metadata": {},
     "output_type": "execute_result"
    }
   ],
   "source": [
    "# Task 1: Create a pandas dataframe with random values\n",
    "data = np.random.randint(0, 100, size= (4,4))\n",
    "df = pd.DataFrame(data)\n",
    "df"
   ]
  },
  {
   "cell_type": "code",
   "execution_count": 100,
   "metadata": {},
   "outputs": [
    {
     "data": {
      "text/html": [
       "<div>\n",
       "<style scoped>\n",
       "    .dataframe tbody tr th:only-of-type {\n",
       "        vertical-align: middle;\n",
       "    }\n",
       "\n",
       "    .dataframe tbody tr th {\n",
       "        vertical-align: top;\n",
       "    }\n",
       "\n",
       "    .dataframe thead th {\n",
       "        text-align: right;\n",
       "    }\n",
       "</style>\n",
       "<table border=\"1\" class=\"dataframe\">\n",
       "  <thead>\n",
       "    <tr style=\"text-align: right;\">\n",
       "      <th></th>\n",
       "      <th>Random value 1</th>\n",
       "      <th>Random value 2</th>\n",
       "      <th>Random value 3</th>\n",
       "      <th>Random value 4</th>\n",
       "    </tr>\n",
       "  </thead>\n",
       "  <tbody>\n",
       "    <tr>\n",
       "      <th>0</th>\n",
       "      <td>44</td>\n",
       "      <td>6</td>\n",
       "      <td>22</td>\n",
       "      <td>97</td>\n",
       "    </tr>\n",
       "    <tr>\n",
       "      <th>1</th>\n",
       "      <td>98</td>\n",
       "      <td>53</td>\n",
       "      <td>95</td>\n",
       "      <td>54</td>\n",
       "    </tr>\n",
       "    <tr>\n",
       "      <th>2</th>\n",
       "      <td>26</td>\n",
       "      <td>52</td>\n",
       "      <td>5</td>\n",
       "      <td>68</td>\n",
       "    </tr>\n",
       "    <tr>\n",
       "      <th>3</th>\n",
       "      <td>38</td>\n",
       "      <td>62</td>\n",
       "      <td>79</td>\n",
       "      <td>24</td>\n",
       "    </tr>\n",
       "  </tbody>\n",
       "</table>\n",
       "</div>"
      ],
      "text/plain": [
       "   Random value 1  Random value 2  Random value 3  Random value 4\n",
       "0              44               6              22              97\n",
       "1              98              53              95              54\n",
       "2              26              52               5              68\n",
       "3              38              62              79              24"
      ]
     },
     "execution_count": 100,
     "metadata": {},
     "output_type": "execute_result"
    }
   ],
   "source": [
    "# Task 2: Rename the dataframe column names\n",
    "df.columns = ['Random value 1', 'Random value 2', 'Random value 3', 'Random value 4']\n",
    "df"
   ]
  },
  {
   "cell_type": "code",
   "execution_count": 101,
   "metadata": {},
   "outputs": [
    {
     "data": {
      "text/html": [
       "<div>\n",
       "<style scoped>\n",
       "    .dataframe tbody tr th:only-of-type {\n",
       "        vertical-align: middle;\n",
       "    }\n",
       "\n",
       "    .dataframe tbody tr th {\n",
       "        vertical-align: top;\n",
       "    }\n",
       "\n",
       "    .dataframe thead th {\n",
       "        text-align: right;\n",
       "    }\n",
       "</style>\n",
       "<table border=\"1\" class=\"dataframe\">\n",
       "  <thead>\n",
       "    <tr style=\"text-align: right;\">\n",
       "      <th></th>\n",
       "      <th>Random value 1</th>\n",
       "      <th>Random value 2</th>\n",
       "      <th>Random value 3</th>\n",
       "      <th>Random value 4</th>\n",
       "    </tr>\n",
       "  </thead>\n",
       "  <tbody>\n",
       "    <tr>\n",
       "      <th>count</th>\n",
       "      <td>4.000000</td>\n",
       "      <td>4.000000</td>\n",
       "      <td>4.000000</td>\n",
       "      <td>4.000000</td>\n",
       "    </tr>\n",
       "    <tr>\n",
       "      <th>mean</th>\n",
       "      <td>51.500000</td>\n",
       "      <td>43.250000</td>\n",
       "      <td>50.250000</td>\n",
       "      <td>60.750000</td>\n",
       "    </tr>\n",
       "    <tr>\n",
       "      <th>std</th>\n",
       "      <td>31.890437</td>\n",
       "      <td>25.237208</td>\n",
       "      <td>43.492336</td>\n",
       "      <td>30.346609</td>\n",
       "    </tr>\n",
       "    <tr>\n",
       "      <th>min</th>\n",
       "      <td>26.000000</td>\n",
       "      <td>6.000000</td>\n",
       "      <td>5.000000</td>\n",
       "      <td>24.000000</td>\n",
       "    </tr>\n",
       "    <tr>\n",
       "      <th>25%</th>\n",
       "      <td>35.000000</td>\n",
       "      <td>40.500000</td>\n",
       "      <td>17.750000</td>\n",
       "      <td>46.500000</td>\n",
       "    </tr>\n",
       "    <tr>\n",
       "      <th>50%</th>\n",
       "      <td>41.000000</td>\n",
       "      <td>52.500000</td>\n",
       "      <td>50.500000</td>\n",
       "      <td>61.000000</td>\n",
       "    </tr>\n",
       "    <tr>\n",
       "      <th>75%</th>\n",
       "      <td>57.500000</td>\n",
       "      <td>55.250000</td>\n",
       "      <td>83.000000</td>\n",
       "      <td>75.250000</td>\n",
       "    </tr>\n",
       "    <tr>\n",
       "      <th>max</th>\n",
       "      <td>98.000000</td>\n",
       "      <td>62.000000</td>\n",
       "      <td>95.000000</td>\n",
       "      <td>97.000000</td>\n",
       "    </tr>\n",
       "  </tbody>\n",
       "</table>\n",
       "</div>"
      ],
      "text/plain": [
       "       Random value 1  Random value 2  Random value 3  Random value 4\n",
       "count        4.000000        4.000000        4.000000        4.000000\n",
       "mean        51.500000       43.250000       50.250000       60.750000\n",
       "std         31.890437       25.237208       43.492336       30.346609\n",
       "min         26.000000        6.000000        5.000000       24.000000\n",
       "25%         35.000000       40.500000       17.750000       46.500000\n",
       "50%         41.000000       52.500000       50.500000       61.000000\n",
       "75%         57.500000       55.250000       83.000000       75.250000\n",
       "max         98.000000       62.000000       95.000000       97.000000"
      ]
     },
     "execution_count": 101,
     "metadata": {},
     "output_type": "execute_result"
    }
   ],
   "source": [
    "# Task 3: Descriptive statistics of the dataframe\n",
    "df.describe()"
   ]
  },
  {
   "cell_type": "code",
   "execution_count": 102,
   "metadata": {},
   "outputs": [
    {
     "name": "stdout",
     "output_type": "stream",
     "text": [
      "Task 4: Null Values\n",
      "Random value 1    0\n",
      "Random value 2    0\n",
      "Random value 3    0\n",
      "Random value 4    0\n",
      "dtype: int64\n",
      "\n",
      "Data Types\n"
     ]
    },
    {
     "data": {
      "text/plain": [
       "Random value 1    int32\n",
       "Random value 2    int32\n",
       "Random value 3    int32\n",
       "Random value 4    int32\n",
       "dtype: object"
      ]
     },
     "execution_count": 102,
     "metadata": {},
     "output_type": "execute_result"
    }
   ],
   "source": [
    "# Task 4: Check for null values and data types\n",
    "print(\"Task 4: Null Values\")\n",
    "null_values = df.isnull().sum()\n",
    "print(null_values)\n",
    "\n",
    "print(\"\\nData Types\")\n",
    "df.dtypes"
   ]
  },
  {
   "cell_type": "code",
   "execution_count": 103,
   "metadata": {},
   "outputs": [
    {
     "name": "stdout",
     "output_type": "stream",
     "text": [
      "Task 5: Display 'Random value 2' & 'Random value 3' columns using location method\n",
      "\n",
      "   Random value 2\n",
      "0               6\n",
      "1              53\n",
      "2              52\n",
      "3              62\n",
      "   Random value 3\n",
      "0              22\n",
      "1              95\n",
      "2               5\n",
      "3              79\n",
      "\n",
      "Display 'Random value 2' & 'Random value 3' columns using index location method\n",
      "\n",
      "   Random value 2\n",
      "0               6\n",
      "1              53\n",
      "2              52\n",
      "3              62\n",
      "   Random value 3\n",
      "0              22\n",
      "1              95\n",
      "2               5\n",
      "3              79\n"
     ]
    }
   ],
   "source": [
    "# Task 5: Display columns using location and index location methods\n",
    "print(\"Task 5: Display 'Random value 2' & 'Random value 3' columns using location method\\n\")\n",
    "# Using location method\n",
    "print(df.loc[:, ['Random value 2']])\n",
    "print(df.loc[:, ['Random value 3']])\n",
    "\n",
    "print(\"\\nDisplay 'Random value 2' & 'Random value 3' columns using index location method\\n\")\n",
    "# Using index location method\n",
    "print(df.iloc[:, [1]])\n",
    "print(df.iloc[:, [2]])"
   ]
  }
 ],
 "metadata": {
  "kernelspec": {
   "display_name": "base",
   "language": "python",
   "name": "python3"
  },
  "language_info": {
   "codemirror_mode": {
    "name": "ipython",
    "version": 3
   },
   "file_extension": ".py",
   "mimetype": "text/x-python",
   "name": "python",
   "nbconvert_exporter": "python",
   "pygments_lexer": "ipython3",
   "version": "3.10.9"
  },
  "orig_nbformat": 4
 },
 "nbformat": 4,
 "nbformat_minor": 2
}
